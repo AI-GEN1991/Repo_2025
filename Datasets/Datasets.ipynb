{
 "cells": [
  {
   "cell_type": "markdown",
   "id": "e05a28c6-23eb-4334-bbc7-9d0aadd87779",
   "metadata": {},
   "source": [
    "## CSV Datasets for Data Preprocessing practices \n",
    "<hr>\n",
    "\n",
    "Below is a table of popular, beginner-friendly datasets widely used to teach data preprocessing and analysis skills. Each entry includes an accessible link for direct download or hands-on exploration.\n",
    "\n",
    "| Dataset | Description | Link |\n",
    "|---|---|---|\n",
    "| **Iris Flower** | 150 floral samples, 3 species, 4 features. Ideal for learning classification. | [Iris (Kaggle)](https://www.kaggle.com/datasets/arshid/iris-flower-dataset) |\n",
    "| **Titanic Passenger List** | Survival prediction; age, gender, class—classic for exploring missing values and feature selection. | [Titanic CSV](https://raw.githubusercontent.com/pandas-dev/pandas/master/doc/data/titanic.csv) |\n",
    "| **Wine Quality** | Red/white wine attributes with quality ratings; suitable for regression demos. | [Wine UCI](https://archive.ics.uci.edu/dataset/186/wine+quality) |\n",
    "| **Adult Census Income** | Predict if income >$50K; covers encoding, scaling, and outlier handling. | [Adult Census (Kaggle)](https://www.kaggle.com/datasets/uciml/adult-census-income) |\n",
    "| **Breast Cancer Wisconsin** | Binary class. Cell features for tumor detection. Data cleaning and binary encoding practice. | [Breast Cancer (Kaggle)](https://www.kaggle.com/datasets/uciml/breast-cancer-wisconsin-data) |\n",
    "| **Boston Housing** | Predict Boston home prices; regression and feature engineering. | [Boston Housing (Kaggle)](https://www.kaggle.com/datasets/altavish/boston-housing-dataset) |\n",
    "| **Superstore Sales** | Fictional retail sales; groupby, pivot, and visualization skills. | [Superstore (Kaggle)](https://www.kaggle.com/datasets/vivek468/superstore-dataset-final) |\n",
    "| **Bank Marketing** | Features from real bank campaigns; imbalanced data and categorical encoding. | [Bank Marketing (Kaggle)](https://www.kaggle.com/datasets/janiobachmann/bank-marketing-dataset) |\n",
    "| **Online Shoppers Purchasing Intention** | E-commerce browsing; practical for classification, handling categorical and missing features. | [Online Shoppers (UCI)](https://archive.ics.uci.edu/dataset/514/online+shoppers+purchasing+intention+dataset) |\n",
    "| **Sample People/Products** | Small, synthetic customer/product info. Good for first-time practice. | [Sample Customers CSV (GitHub)](https://github.com/plotly/datasets/blob/master/2014_usa_states.csv) |\n",
    "| **Instacart Orders** | Grocery purchase baskets for market basket analysis and recommendations. | [Instacart (Kaggle)](https://www.kaggle.com/datasets/instacart/market-basket-analysis) |\n",
    "| **Uber NYC Pickups** | Taxi trip records; introduction to date-time and geospatial features. | [Uber NYC Data (Kaggle)](https://www.kaggle.com/datasets/fivethirtyeight/uber-pickups-in-new-york-city) |\n",
    "| **Citi Bike Data** | Public bike trips; great for timelines and location mapping. | [Citi Bike NYC (Official)](https://ride.citibikenyc.com/system-data) |\n",
    "| **Household Electric Power** | Long-term consumption time series; handle missing values and datetime formats. | [Power Consumption (UCI)](https://archive.ics.uci.edu/dataset/222/individual+household+electric+power+consumption) |\n",
    "\n",
    "*All links provide direct access or download to CSV files. These datasets are safe, well-documented, and beginner-appropriate—making them perfect for in-class demos, assignments, or independent experimentation.*\n",
    "\n",
    "> Save this formatted text as a `.md` file for easy sharing or use in classroom materials, Jupyter notebooks, or documentation.\n"
   ]
  }
 ],
 "metadata": {
  "kernelspec": {
   "display_name": "Python 3 (ipykernel)",
   "language": "python",
   "name": "python3"
  },
  "language_info": {
   "codemirror_mode": {
    "name": "ipython",
    "version": 3
   },
   "file_extension": ".py",
   "mimetype": "text/x-python",
   "name": "python",
   "nbconvert_exporter": "python",
   "pygments_lexer": "ipython3",
   "version": "3.13.5"
  }
 },
 "nbformat": 4,
 "nbformat_minor": 5
}
