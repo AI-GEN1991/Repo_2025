{
 "cells": [
  {
   "cell_type": "markdown",
   "id": "3c3d0071-a712-43ab-8404-fe70758297b5",
   "metadata": {},
   "source": [
    "### Lab Experiment 02 \n",
    "**Objective:** Perform various data preprocessing techniques like handling outliers and encoding categorical variables\n",
    "<hr>"
   ]
  },
  {
   "cell_type": "markdown",
   "id": "953c9589-f91b-4beb-90f4-91f12c6b888d",
   "metadata": {},
   "source": [
    "#### 🧑‍🎓 Student Details\n",
    "\n",
    "| Field                | Information                |\n",
    "|---------------------|----------------------------|\n",
    "| 👨‍🎓 **Name**            | _[Enter Your Full Name]_     |\n",
    "| 🆔 **USN**              | _[Enter Your USN]_           |\n",
    "| **Section**        | _[Enter Your Section]_ |\n",
    "| **Programme**   | B.Tech(H)             |\n",
    "| **School**  | Computer Science and Engineering |\n"
   ]
  },
  {
   "cell_type": "code",
   "execution_count": null,
   "id": "1e5e3991-55bd-44bb-b39b-60f8ed1f5e18",
   "metadata": {},
   "outputs": [],
   "source": [
    "import platform\n",
    "import psutil\n",
    "from datetime import datetime\n",
    "import sys\n",
    "import getpass\n",
    "import os\n",
    "\n",
    "# Timestamp\n",
    "timestamp = datetime.now().strftime('%Y-%m-%d %H:%M:%S')\n",
    "# System Information\n",
    "system_info = {\n",
    "    \"User Name\": getpass.getuser(),\n",
    "    \"Timestamp\": timestamp,\n",
    "    \"OS\": platform.system() + \" \" + platform.release(),\n",
    "    \"Processor\": platform.processor(),\n",
    "    \"RAM (GB)\": round(psutil.virtual_memory().total / (1024 ** 3), 2),\n",
    "    \"Python Version\": platform.python_version(),\n",
    "    \"Working Directory\": os.getcwd()\n",
    "}\n",
    "# Print formatted results\n",
    "print(\"🧑‍💻 System Details\\n\" + \"-\"*40)\n",
    "for key, value in system_info.items():\n",
    "    print(f\"{key:20}: {value}\")\n"
   ]
  },
  {
   "cell_type": "markdown",
   "id": "76e4eff0-007d-4ae5-81e5-2b5d63ed75fa",
   "metadata": {},
   "source": [
    "### Student Tasks \n",
    "<hr>"
   ]
  },
  {
   "cell_type": "markdown",
   "id": "d79dbaee-8abc-42b7-b5e5-b9c2a0cbdc29",
   "metadata": {},
   "source": [
    "##### Learning Objectives \n",
    "\n",
    "1. Identify and treat outliers in structured datasets using statistical methods.\n",
    "2. Encode categorical data into numerical methods that machine learning models can interpret.\n",
    "3. Use Label Encoding and One-Hot Encoding using `scikit-learn`.\n",
    "4. Improve data quality through encoding and outlier handling."
   ]
  },
  {
   "cell_type": "markdown",
   "id": "57e301df-a10d-4331-89c6-f1a1c36b1850",
   "metadata": {},
   "source": [
    "**Step 01:** \n",
    "- Import necessary Python libraries : Import pandas, numpy, scikit-learn, matplotlib, seaborn."
   ]
  },
  {
   "cell_type": "code",
   "execution_count": null,
   "id": "85bf8030-9b90-4e1a-a771-ad00f3ae8be9",
   "metadata": {},
   "outputs": [],
   "source": [
    "# [ Edit this cell ] Write your code below this line"
   ]
  },
  {
   "cell_type": "markdown",
   "id": "99d61c47-405a-49f2-871e-befc84f15248",
   "metadata": {},
   "source": [
    "**Step 02:** \n",
    "- Load the dataset (CSV format is recommended) using pandas.."
   ]
  },
  {
   "cell_type": "code",
   "execution_count": null,
   "id": "10a7835b-eff0-46c4-a8c2-197d99f25e81",
   "metadata": {},
   "outputs": [],
   "source": [
    "# [ Edit this cell ] Write your code below this line"
   ]
  },
  {
   "cell_type": "markdown",
   "id": "f19f3cf5-9ddc-42a0-9def-b8abe98047b7",
   "metadata": {},
   "source": [
    "**Step 03:** \n",
    "- Detect and visualize outliers using boxplot visualization."
   ]
  },
  {
   "cell_type": "code",
   "execution_count": null,
   "id": "0978b6c8-59f0-4577-a004-7d3c8a3c2123",
   "metadata": {},
   "outputs": [],
   "source": [
    "# [ Edit this cell ] Write your code below this line"
   ]
  },
  {
   "cell_type": "markdown",
   "id": "037511af-f1c4-47a7-96a4-a2966d891fa0",
   "metadata": {},
   "source": [
    "**Step 04:** \n",
    "- Perform the Statistical Outlier Detection (Z-score)."
   ]
  },
  {
   "cell_type": "code",
   "execution_count": null,
   "id": "d58b96bf-c091-44b5-901a-11aae60028c1",
   "metadata": {},
   "outputs": [],
   "source": [
    "# [ Edit this cell ] Write your code below this line"
   ]
  },
  {
   "cell_type": "markdown",
   "id": "6507b7bc-d7ac-4112-bd28-9d86578ba5eb",
   "metadata": {},
   "source": [
    "**Step 05:** \n",
    "- Encode Categorical Variables: Label encoding"
   ]
  },
  {
   "cell_type": "code",
   "execution_count": null,
   "id": "86c84472-8f29-4dc1-b9a0-37fa23b6d85c",
   "metadata": {},
   "outputs": [],
   "source": [
    "# [ Edit this cell ] Write your code below this line"
   ]
  },
  {
   "cell_type": "markdown",
   "id": "5ace1d24-9c41-4be1-a5b8-0a8796393769",
   "metadata": {},
   "source": [
    "**Step 06:** \n",
    "- Encode Categorical Variables: One-Hot Encoding "
   ]
  },
  {
   "cell_type": "code",
   "execution_count": null,
   "id": "67eb5d62-2013-4392-abe5-2c1c82c68413",
   "metadata": {},
   "outputs": [],
   "source": [
    "# [ Edit this cell ] Write your code below this line"
   ]
  },
  {
   "cell_type": "markdown",
   "id": "b8a35a5f-b3dd-4105-9a4d-3a251f93958c",
   "metadata": {},
   "source": [
    "**Step 07:** \n",
    "- Save Cleaned & Encoded Dataset to your system.."
   ]
  },
  {
   "cell_type": "code",
   "execution_count": null,
   "id": "21c66bf5-aa92-4900-b43c-2292a7db9c50",
   "metadata": {},
   "outputs": [],
   "source": [
    "# [ Edit this cell ] Write your code below this line"
   ]
  },
  {
   "cell_type": "markdown",
   "id": "50fcc526-e2e5-4073-bfac-a38fa576294d",
   "metadata": {},
   "source": [
    "### ✅ Rubric: Data Preprocessing 02 (10 Marks)\n",
    "<hr>\n",
    "\n",
    "**For Course Instructor Use**\n",
    "\n",
    "A rubric for accessing experiment focused on outlier handling and categorical data encoding.\n",
    "\n",
    "| **Criteria**                     | **Description**                                                                                         | **Max Marks** | **Marks Obtained** |\n",
    "|----------------------------------|---------------------------------------------------------------------------------------------------------|---------------|---------------------|\n",
    "| **Outlier Detection & Removal**  | Visual identification via plots; accurate usage of Z-score method to filter outliers.                   |      3        |                     |\n",
    "| **Categorical Encoding**         | Proper application of Label Encoding for binary data and One-Hot Encoding for nominal data.             |      3        |                     |\n",
    "| **Code Quality & Execution**     | Code runs without errors, is well-organized, and follows best practices; outputs are clearly displayed. |      2        |                     |\n",
    "| **Documentation & Viva Insight** | Brief comments, explanations, and ability to answer questions during viva on technique choices.         |      2        |                     |\n",
    "\n",
    "**Marks Obtained: ______ / 10** \n",
    "\n",
    "<hr>\n",
    "\n",
    "**Course Instructor Signature:** ____________________      "
   ]
  },
  {
   "cell_type": "markdown",
   "id": "92ba4fc4-5cd5-4629-bad4-a38d2f0f2d18",
   "metadata": {},
   "source": [
    "##### Link for pandoc - Download the Software for export PDF for submission in GCR\n",
    "https://github.com/jgm/pandoc/releases/tag/3.7.0.2"
   ]
  }
 ],
 "metadata": {
  "kernelspec": {
   "display_name": "Python 3 (ipykernel)",
   "language": "python",
   "name": "python3"
  },
  "language_info": {
   "codemirror_mode": {
    "name": "ipython",
    "version": 3
   },
   "file_extension": ".py",
   "mimetype": "text/x-python",
   "name": "python",
   "nbconvert_exporter": "python",
   "pygments_lexer": "ipython3",
   "version": "3.13.5"
  }
 },
 "nbformat": 4,
 "nbformat_minor": 5
}
