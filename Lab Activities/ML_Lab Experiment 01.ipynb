{
 "cells": [
  {
   "cell_type": "markdown",
   "id": "3c3d0071-a712-43ab-8404-fe70758297b5",
   "metadata": {},
   "source": [
    "### Lab Experiment 01 \n",
    "**Objective:** Perform various data preprocessing techniques like handling missing data and feature scaling.\n",
    "<hr>"
   ]
  },
  {
   "cell_type": "markdown",
   "id": "953c9589-f91b-4beb-90f4-91f12c6b888d",
   "metadata": {},
   "source": [
    "#### 🧑‍🎓 Student Details\n",
    "\n",
    "| Field                | Information                |\n",
    "|---------------------|----------------------------|\n",
    "| 👨‍🎓 **Name**            | _[Enter Your Full Name]_     |\n",
    "| 🆔 **USN**              | _[Enter Your USN]_           |\n",
    "| **Section**        | _[Enter Your Section]_ |\n",
    "| **Programme**   | B.Tech(H)             |\n",
    "| **School**  | Computer Science and Engineering |\n"
   ]
  },
  {
   "cell_type": "code",
   "execution_count": 22,
   "id": "1e5e3991-55bd-44bb-b39b-60f8ed1f5e18",
   "metadata": {},
   "outputs": [
    {
     "name": "stdout",
     "output_type": "stream",
     "text": [
      "🧑‍💻 System Details\n",
      "----------------------------------------\n",
      "User Name           : ashwinimathur\n",
      "Timestamp           : 2025-07-31 10:45:03\n",
      "OS                  : Darwin 24.5.0\n",
      "Processor           : arm\n",
      "RAM (GB)            : 8.0\n",
      "Python Version      : 3.13.5\n",
      "Working Directory   : /Users/ashwinimathur/Downloads/ML_Labs\n"
     ]
    }
   ],
   "source": [
    "import platform\n",
    "import psutil\n",
    "from datetime import datetime\n",
    "import sys\n",
    "import getpass\n",
    "import os\n",
    "\n",
    "# Timestamp\n",
    "timestamp = datetime.now().strftime('%Y-%m-%d %H:%M:%S')\n",
    "# System Information\n",
    "system_info = {\n",
    "    \"User Name\": getpass.getuser(),\n",
    "    \"Timestamp\": timestamp,\n",
    "    \"OS\": platform.system() + \" \" + platform.release(),\n",
    "    \"Processor\": platform.processor(),\n",
    "    \"RAM (GB)\": round(psutil.virtual_memory().total / (1024 ** 3), 2),\n",
    "    \"Python Version\": platform.python_version(),\n",
    "    \"Working Directory\": os.getcwd()\n",
    "}\n",
    "# Print formatted results\n",
    "print(\"🧑‍💻 System Details\\n\" + \"-\"*40)\n",
    "for key, value in system_info.items():\n",
    "    print(f\"{key:20}: {value}\")\n"
   ]
  },
  {
   "cell_type": "markdown",
   "id": "76e4eff0-007d-4ae5-81e5-2b5d63ed75fa",
   "metadata": {},
   "source": [
    "### Student Tasks \n",
    "<hr>"
   ]
  },
  {
   "cell_type": "markdown",
   "id": "57e301df-a10d-4331-89c6-f1a1c36b1850",
   "metadata": {},
   "source": [
    "**Step 01:** \n",
    "- Import necessary Python libraries for data handling and preprocessing."
   ]
  },
  {
   "cell_type": "code",
   "execution_count": 23,
   "id": "85bf8030-9b90-4e1a-a771-ad00f3ae8be9",
   "metadata": {},
   "outputs": [],
   "source": [
    "# [ Edit this cell ] Write your code below this line"
   ]
  },
  {
   "cell_type": "markdown",
   "id": "99d61c47-405a-49f2-871e-befc84f15248",
   "metadata": {},
   "source": [
    "**Step 02:** \n",
    "- Load the dataset (CSV format is recommended) using pandas.."
   ]
  },
  {
   "cell_type": "code",
   "execution_count": 24,
   "id": "10a7835b-eff0-46c4-a8c2-197d99f25e81",
   "metadata": {},
   "outputs": [],
   "source": [
    "# [ Edit this cell ] Write your code below this line"
   ]
  },
  {
   "cell_type": "markdown",
   "id": "f19f3cf5-9ddc-42a0-9def-b8abe98047b7",
   "metadata": {},
   "source": [
    "**Step 03:** \n",
    "- Explore the dataset: check shape, data types, sample rows, summary statistics, etc."
   ]
  },
  {
   "cell_type": "code",
   "execution_count": 25,
   "id": "0978b6c8-59f0-4577-a004-7d3c8a3c2123",
   "metadata": {},
   "outputs": [],
   "source": [
    "# [ Edit this cell ] Write your code below this line"
   ]
  },
  {
   "cell_type": "markdown",
   "id": "037511af-f1c4-47a7-96a4-a2966d891fa0",
   "metadata": {},
   "source": [
    "**Step 04:** \n",
    "- Detect missing values and any obvious anomalies (e.g., out-of-range values).."
   ]
  },
  {
   "cell_type": "code",
   "execution_count": 26,
   "id": "d58b96bf-c091-44b5-901a-11aae60028c1",
   "metadata": {},
   "outputs": [],
   "source": [
    "# [ Edit this cell ] Write your code below this line"
   ]
  },
  {
   "cell_type": "markdown",
   "id": "6507b7bc-d7ac-4112-bd28-9d86578ba5eb",
   "metadata": {},
   "source": [
    "**Step 05:** \n",
    "- Choose and perform strategies such as mean/median imputation or removal.."
   ]
  },
  {
   "cell_type": "code",
   "execution_count": 27,
   "id": "86c84472-8f29-4dc1-b9a0-37fa23b6d85c",
   "metadata": {},
   "outputs": [],
   "source": [
    "# [ Edit this cell ] Write your code below this line"
   ]
  },
  {
   "cell_type": "markdown",
   "id": "5ace1d24-9c41-4be1-a5b8-0a8796393769",
   "metadata": {},
   "source": [
    "**Step 06:** \n",
    "- Choose and perform strategies such as mean/median imputation or removal.."
   ]
  },
  {
   "cell_type": "code",
   "execution_count": 28,
   "id": "67eb5d62-2013-4392-abe5-2c1c82c68413",
   "metadata": {},
   "outputs": [],
   "source": [
    "# [ Edit this cell ] Write your code below this line"
   ]
  },
  {
   "cell_type": "markdown",
   "id": "ff362167-ca23-4903-8c8b-91162b29fc90",
   "metadata": {},
   "source": [
    "**Step 07:** \n",
    "- Standardize or normalize your numeric columns.."
   ]
  },
  {
   "cell_type": "code",
   "execution_count": 29,
   "id": "7f4cb2a0-3ea0-41c4-9259-d45df8f587e1",
   "metadata": {},
   "outputs": [],
   "source": [
    "# [ Edit this cell ] Write your code below this line"
   ]
  },
  {
   "cell_type": "markdown",
   "id": "1048f471-9236-4d57-97a4-d401be74ec1d",
   "metadata": {},
   "source": [
    "**Step 08:** \n",
    "- Assign your input features to one variable (e.g., `X`) and output/target to another (e.g., `y`).."
   ]
  },
  {
   "cell_type": "code",
   "execution_count": 30,
   "id": "c14cd3c9-4074-426a-b139-52a90977edb8",
   "metadata": {},
   "outputs": [],
   "source": [
    "# [ Edit this cell ] Write your code below this line"
   ]
  },
  {
   "cell_type": "markdown",
   "id": "b8a35a5f-b3dd-4105-9a4d-3a251f93958c",
   "metadata": {},
   "source": [
    "**Step 09:** \n",
    "- Save the pre-processed/clean dataset as a CSV file to your system.."
   ]
  },
  {
   "cell_type": "code",
   "execution_count": null,
   "id": "21c66bf5-aa92-4900-b43c-2292a7db9c50",
   "metadata": {},
   "outputs": [],
   "source": [
    "# [ Edit this cell ] Write your code below this line"
   ]
  },
  {
   "cell_type": "markdown",
   "id": "50fcc526-e2e5-4073-bfac-a38fa576294d",
   "metadata": {},
   "source": [
    "#### ✅ Rubric: Data Preprocessing (10 Marks)\n",
    "<hr>\n",
    "\n",
    "**For Course Instructor Use**\n",
    "\n",
    "Rubric for assessing an experiment involving missing data handling and feature scaling.\n",
    "\n",
    "| **Criteria**                  | **Description**                                                                                        | **Max Marks** | **Marks Obtained** |\n",
    "|------------------------------|--------------------------------------------------------------------------------------------------------|---------------|---------------------|\n",
    "| **Missing Data Handling**     | Correct identification of missing values and application of an appropriate handling method, with basic justification. |      3        |                     |\n",
    "| **Feature Scaling**           | Appropriate scaling method selected and correctly applied, with a brief explanation.                  |      3        |                     |\n",
    "| **Code Implementation**       | Code is functional and syntactically correct, with clear output demonstrating preprocessing steps.     |      2        |                     |\n",
    "| **Clarity, Insight & Viva**   | Clear justification of technique choices, reflection on preprocessing impact, and confident viva responses. |      2        |                     |\n",
    "\n",
    "**Marks Obtained: ______ / 10** \n",
    "\n",
    "<hr>\n",
    "\n",
    "**Course Instructor Signature:** ____________________      \n"
   ]
  },
  {
   "cell_type": "markdown",
   "id": "92ba4fc4-5cd5-4629-bad4-a38d2f0f2d18",
   "metadata": {},
   "source": [
    "##### Link for pandoc - Download the Software for export PDF for submission in GCR\n",
    "https://github.com/jgm/pandoc/releases/tag/3.7.0.2"
   ]
  }
 ],
 "metadata": {
  "kernelspec": {
   "display_name": "Python 3 (ipykernel)",
   "language": "python",
   "name": "python3"
  },
  "language_info": {
   "codemirror_mode": {
    "name": "ipython",
    "version": 3
   },
   "file_extension": ".py",
   "mimetype": "text/x-python",
   "name": "python",
   "nbconvert_exporter": "python",
   "pygments_lexer": "ipython3",
   "version": "3.13.5"
  }
 },
 "nbformat": 4,
 "nbformat_minor": 5
}
